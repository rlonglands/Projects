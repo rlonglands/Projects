{
 "cells": [
  {
   "cell_type": "markdown",
   "id": "e2b5f1c5",
   "metadata": {},
   "source": [
    "##  Combined Spam Filter Code"
   ]
  },
  {
   "cell_type": "code",
   "execution_count": 1,
   "id": "02e68f4c",
   "metadata": {},
   "outputs": [],
   "source": [
    "import pandas as pd\n",
    "from sklearn.model_selection import train_test_split\n",
    "from sklearn.feature_extraction.text import CountVectorizer\n",
    "from sklearn import svm \n",
    "import matplotlib . pyplot as plt # for data visualization purposes\n",
    "import seaborn as sns # statistical visualization of data\n",
    "from sklearn.naive_bayes import MultinomialNB, GaussianNB, BernoulliNB"
   ]
  },
  {
   "cell_type": "code",
   "execution_count": 5,
   "id": "6479da6c",
   "metadata": {},
   "outputs": [
    {
     "data": {
      "text/html": [
       "<div>\n",
       "<style scoped>\n",
       "    .dataframe tbody tr th:only-of-type {\n",
       "        vertical-align: middle;\n",
       "    }\n",
       "\n",
       "    .dataframe tbody tr th {\n",
       "        vertical-align: top;\n",
       "    }\n",
       "\n",
       "    .dataframe thead th {\n",
       "        text-align: right;\n",
       "    }\n",
       "</style>\n",
       "<table border=\"1\" class=\"dataframe\">\n",
       "  <thead>\n",
       "    <tr style=\"text-align: right;\">\n",
       "      <th></th>\n",
       "      <th>v1</th>\n",
       "      <th>v2</th>\n",
       "      <th>Unnamed: 2</th>\n",
       "      <th>Unnamed: 3</th>\n",
       "      <th>Unnamed: 4</th>\n",
       "    </tr>\n",
       "  </thead>\n",
       "  <tbody>\n",
       "    <tr>\n",
       "      <th>0</th>\n",
       "      <td>ham</td>\n",
       "      <td>Go until jurong point, crazy.. Available only ...</td>\n",
       "      <td>NaN</td>\n",
       "      <td>NaN</td>\n",
       "      <td>NaN</td>\n",
       "    </tr>\n",
       "    <tr>\n",
       "      <th>1</th>\n",
       "      <td>ham</td>\n",
       "      <td>Ok lar... Joking wif u oni...</td>\n",
       "      <td>NaN</td>\n",
       "      <td>NaN</td>\n",
       "      <td>NaN</td>\n",
       "    </tr>\n",
       "    <tr>\n",
       "      <th>2</th>\n",
       "      <td>spam</td>\n",
       "      <td>Free entry in 2 a wkly comp to win FA Cup fina...</td>\n",
       "      <td>NaN</td>\n",
       "      <td>NaN</td>\n",
       "      <td>NaN</td>\n",
       "    </tr>\n",
       "    <tr>\n",
       "      <th>3</th>\n",
       "      <td>ham</td>\n",
       "      <td>U dun say so early hor... U c already then say...</td>\n",
       "      <td>NaN</td>\n",
       "      <td>NaN</td>\n",
       "      <td>NaN</td>\n",
       "    </tr>\n",
       "    <tr>\n",
       "      <th>4</th>\n",
       "      <td>ham</td>\n",
       "      <td>Nah I don't think he goes to usf, he lives aro...</td>\n",
       "      <td>NaN</td>\n",
       "      <td>NaN</td>\n",
       "      <td>NaN</td>\n",
       "    </tr>\n",
       "  </tbody>\n",
       "</table>\n",
       "</div>"
      ],
      "text/plain": [
       "     v1                                                 v2 Unnamed: 2  \\\n",
       "0   ham  Go until jurong point, crazy.. Available only ...        NaN   \n",
       "1   ham                      Ok lar... Joking wif u oni...        NaN   \n",
       "2  spam  Free entry in 2 a wkly comp to win FA Cup fina...        NaN   \n",
       "3   ham  U dun say so early hor... U c already then say...        NaN   \n",
       "4   ham  Nah I don't think he goes to usf, he lives aro...        NaN   \n",
       "\n",
       "  Unnamed: 3 Unnamed: 4  \n",
       "0        NaN        NaN  \n",
       "1        NaN        NaN  \n",
       "2        NaN        NaN  \n",
       "3        NaN        NaN  \n",
       "4        NaN        NaN  "
      ]
     },
     "execution_count": 5,
     "metadata": {},
     "output_type": "execute_result"
    }
   ],
   "source": [
    "spam = pd.read_csv(\"C:\\\\Users\\\\rlong\\\\OneDrive\\\\Documents\\\\spam.csv\")\n",
    "spam.head()"
   ]
  },
  {
   "cell_type": "code",
   "execution_count": 6,
   "id": "10363327",
   "metadata": {},
   "outputs": [
    {
     "data": {
      "text/html": [
       "<div>\n",
       "<style scoped>\n",
       "    .dataframe tbody tr th:only-of-type {\n",
       "        vertical-align: middle;\n",
       "    }\n",
       "\n",
       "    .dataframe tbody tr th {\n",
       "        vertical-align: top;\n",
       "    }\n",
       "\n",
       "    .dataframe thead th {\n",
       "        text-align: right;\n",
       "    }\n",
       "</style>\n",
       "<table border=\"1\" class=\"dataframe\">\n",
       "  <thead>\n",
       "    <tr style=\"text-align: right;\">\n",
       "      <th></th>\n",
       "      <th>Label</th>\n",
       "      <th>EmailText</th>\n",
       "    </tr>\n",
       "  </thead>\n",
       "  <tbody>\n",
       "    <tr>\n",
       "      <th>0</th>\n",
       "      <td>ham</td>\n",
       "      <td>Go until jurong point, crazy.. Available only ...</td>\n",
       "    </tr>\n",
       "    <tr>\n",
       "      <th>1</th>\n",
       "      <td>ham</td>\n",
       "      <td>Ok lar... Joking wif u oni...</td>\n",
       "    </tr>\n",
       "    <tr>\n",
       "      <th>2</th>\n",
       "      <td>spam</td>\n",
       "      <td>Free entry in 2 a wkly comp to win FA Cup fina...</td>\n",
       "    </tr>\n",
       "    <tr>\n",
       "      <th>3</th>\n",
       "      <td>ham</td>\n",
       "      <td>U dun say so early hor... U c already then say...</td>\n",
       "    </tr>\n",
       "    <tr>\n",
       "      <th>4</th>\n",
       "      <td>ham</td>\n",
       "      <td>Nah I don't think he goes to usf, he lives aro...</td>\n",
       "    </tr>\n",
       "  </tbody>\n",
       "</table>\n",
       "</div>"
      ],
      "text/plain": [
       "  Label                                          EmailText\n",
       "0   ham  Go until jurong point, crazy.. Available only ...\n",
       "1   ham                      Ok lar... Joking wif u oni...\n",
       "2  spam  Free entry in 2 a wkly comp to win FA Cup fina...\n",
       "3   ham  U dun say so early hor... U c already then say...\n",
       "4   ham  Nah I don't think he goes to usf, he lives aro..."
      ]
     },
     "execution_count": 6,
     "metadata": {},
     "output_type": "execute_result"
    }
   ],
   "source": [
    "spam.rename(columns = {'v1':'Label', 'v2':'EmailText'}, inplace = True)\n",
    "spam.drop(['Unnamed: 2', 'Unnamed: 3', 'Unnamed: 4'], axis=1, inplace=True)  \n",
    "spam.head()"
   ]
  },
  {
   "cell_type": "code",
   "execution_count": 7,
   "id": "7baad757",
   "metadata": {},
   "outputs": [
    {
     "data": {
      "text/plain": [
       "(5572, 2)"
      ]
     },
     "execution_count": 7,
     "metadata": {},
     "output_type": "execute_result"
    }
   ],
   "source": [
    "spam.shape"
   ]
  },
  {
   "cell_type": "code",
   "execution_count": 8,
   "id": "61c8c02c",
   "metadata": {},
   "outputs": [],
   "source": [
    "z = spam['EmailText']\n",
    "y = spam[\"Label\"]\n",
    "z_train, z_test,y_train, y_test = train_test_split(z,y,test_size = 0.2)"
   ]
  },
  {
   "cell_type": "code",
   "execution_count": 9,
   "id": "9e36b7ae",
   "metadata": {},
   "outputs": [],
   "source": [
    "cv = CountVectorizer()\n",
    "features = cv.fit_transform(z_train)"
   ]
  },
  {
   "cell_type": "code",
   "execution_count": 10,
   "id": "d3107330",
   "metadata": {},
   "outputs": [
    {
     "data": {
      "text/plain": [
       "SVC()"
      ]
     },
     "execution_count": 10,
     "metadata": {},
     "output_type": "execute_result"
    }
   ],
   "source": [
    "#  SVM model training\n",
    "svm_model = svm.SVC()\n",
    "svm_model.fit(features,y_train)"
   ]
  },
  {
   "cell_type": "code",
   "execution_count": 11,
   "id": "170db2b0",
   "metadata": {},
   "outputs": [
    {
     "data": {
      "text/plain": [
       "RandomForestClassifier()"
      ]
     },
     "execution_count": 11,
     "metadata": {},
     "output_type": "execute_result"
    }
   ],
   "source": [
    "#  RF model training\n",
    "from sklearn . ensemble import RandomForestClassifier\n",
    "# creating random forest classifier\n",
    "clf = RandomForestClassifier ( n_estimators = 100)\n",
    "# fit function is used to train the model using the training sets as parameters\n",
    "clf.fit( features , y_train )"
   ]
  },
  {
   "cell_type": "code",
   "execution_count": 12,
   "id": "397d4452",
   "metadata": {},
   "outputs": [
    {
     "data": {
      "text/plain": [
       "MultinomialNB()"
      ]
     },
     "execution_count": 12,
     "metadata": {},
     "output_type": "execute_result"
    }
   ],
   "source": [
    "#  MNB model training\n",
    "\n",
    "nb_model = MultinomialNB()\n",
    "\n",
    "nb_model.fit(features , y_train )"
   ]
  },
  {
   "cell_type": "code",
   "execution_count": 13,
   "id": "05cf79ae",
   "metadata": {},
   "outputs": [
    {
     "name": "stdout",
     "output_type": "stream",
     "text": [
      "SVM Accuracy: 0.9802690582959641\n"
     ]
    }
   ],
   "source": [
    "#  SVM accuracy score\n",
    "features_test = cv.transform(z_test)\n",
    "print(\"SVM Accuracy: {}\".format(svm_model.score(features_test,y_test)))"
   ]
  },
  {
   "cell_type": "code",
   "execution_count": 14,
   "id": "58b32d55",
   "metadata": {},
   "outputs": [
    {
     "name": "stdout",
     "output_type": "stream",
     "text": [
      "RF Accuracy: 0.97847533632287\n"
     ]
    }
   ],
   "source": [
    "#  RF accuracy score\n",
    "print(\"RF Accuracy: {}\".format(clf.score(features_test, y_test)))"
   ]
  },
  {
   "cell_type": "code",
   "execution_count": 15,
   "id": "62a19455",
   "metadata": {},
   "outputs": [
    {
     "name": "stdout",
     "output_type": "stream",
     "text": [
      "MNB Accuracy: 0.9820627802690582\n"
     ]
    }
   ],
   "source": [
    "#  MNB accuracy score\n",
    "print(\"MNB Accuracy: {}\".format(nb_model.score(features_test, y_test)))"
   ]
  },
  {
   "cell_type": "code",
   "execution_count": 16,
   "id": "57416b51",
   "metadata": {},
   "outputs": [
    {
     "data": {
      "text/plain": [
       "array([[959,   0],\n",
       "       [ 22, 134]], dtype=int64)"
      ]
     },
     "execution_count": 16,
     "metadata": {},
     "output_type": "execute_result"
    }
   ],
   "source": [
    "# SVM confusion matrix\n",
    "from sklearn import metrics\n",
    "import numpy as np\n",
    "from sklearn . metrics import confusion_matrix\n",
    "svm_y_pred = svm_model.predict ( features_test )\n",
    "svm_cm = confusion_matrix (y_test , svm_y_pred )\n",
    "svm_cm"
   ]
  },
  {
   "cell_type": "code",
   "execution_count": 17,
   "id": "a2c65ef3",
   "metadata": {},
   "outputs": [
    {
     "data": {
      "text/plain": [
       "array([[959,   0],\n",
       "       [ 24, 132]], dtype=int64)"
      ]
     },
     "execution_count": 17,
     "metadata": {},
     "output_type": "execute_result"
    }
   ],
   "source": [
    "# random forest confusion matrix\n",
    "rf_y_pred = clf.predict ( features_test )\n",
    "rf_cm = confusion_matrix (y_test , rf_y_pred )\n",
    "rf_cm"
   ]
  },
  {
   "cell_type": "code",
   "execution_count": 18,
   "id": "feabe96a",
   "metadata": {},
   "outputs": [
    {
     "data": {
      "text/plain": [
       "array([[954,   5],\n",
       "       [ 15, 141]], dtype=int64)"
      ]
     },
     "execution_count": 18,
     "metadata": {},
     "output_type": "execute_result"
    }
   ],
   "source": [
    "# naive bayes confusion matrix\n",
    "nb_y_pred = nb_model.predict ( features_test )\n",
    "nb_cm = confusion_matrix (y_test , nb_y_pred )\n",
    "nb_cm"
   ]
  },
  {
   "cell_type": "code",
   "execution_count": 19,
   "id": "5bbfadbb",
   "metadata": {},
   "outputs": [
    {
     "data": {
      "text/plain": [
       "1.0"
      ]
     },
     "execution_count": 19,
     "metadata": {},
     "output_type": "execute_result"
    }
   ],
   "source": [
    "#  SVM Recall/Sensitivity Score\n",
    "from sklearn.metrics import recall_score\n",
    "\n",
    "recall_score(y_test , svm_y_pred, pos_label = \"ham\")"
   ]
  },
  {
   "cell_type": "code",
   "execution_count": 20,
   "id": "e7419d53",
   "metadata": {},
   "outputs": [
    {
     "data": {
      "text/plain": [
       "0.9775739041794088"
      ]
     },
     "execution_count": 20,
     "metadata": {},
     "output_type": "execute_result"
    }
   ],
   "source": [
    "#  SVM Precision Score\n",
    "from sklearn.metrics import precision_score\n",
    "\n",
    "precision_score(y_test , svm_y_pred, pos_label = \"ham\")"
   ]
  },
  {
   "cell_type": "code",
   "execution_count": 21,
   "id": "f2e6d177",
   "metadata": {},
   "outputs": [
    {
     "data": {
      "text/plain": [
       "1.0"
      ]
     },
     "execution_count": 21,
     "metadata": {},
     "output_type": "execute_result"
    }
   ],
   "source": [
    "#  RF Recall/Sensitivity Score\n",
    "from sklearn.metrics import recall_score\n",
    "\n",
    "recall_score(y_test , rf_y_pred, pos_label = \"ham\")"
   ]
  },
  {
   "cell_type": "code",
   "execution_count": 22,
   "id": "784c818d",
   "metadata": {},
   "outputs": [
    {
     "data": {
      "text/plain": [
       "0.9755849440488301"
      ]
     },
     "execution_count": 22,
     "metadata": {},
     "output_type": "execute_result"
    }
   ],
   "source": [
    "#  RF Precision Score\n",
    "from sklearn.metrics import precision_score\n",
    "\n",
    "precision_score(y_test , rf_y_pred, pos_label = \"ham\")"
   ]
  },
  {
   "cell_type": "code",
   "execution_count": 23,
   "id": "8b7e8a8d",
   "metadata": {},
   "outputs": [
    {
     "data": {
      "text/plain": [
       "0.9947862356621481"
      ]
     },
     "execution_count": 23,
     "metadata": {},
     "output_type": "execute_result"
    }
   ],
   "source": [
    "#  NB Recall/Sensitivity Score\n",
    "from sklearn.metrics import recall_score\n",
    "\n",
    "recall_score(y_test , nb_y_pred, pos_label = \"ham\")"
   ]
  },
  {
   "cell_type": "code",
   "execution_count": 24,
   "id": "43848140",
   "metadata": {},
   "outputs": [
    {
     "data": {
      "text/plain": [
       "0.9845201238390093"
      ]
     },
     "execution_count": 24,
     "metadata": {},
     "output_type": "execute_result"
    }
   ],
   "source": [
    "#  NB Precision Score\n",
    "from sklearn.metrics import precision_score\n",
    "\n",
    "precision_score(y_test , nb_y_pred, pos_label = \"ham\")"
   ]
  },
  {
   "cell_type": "code",
   "execution_count": 25,
   "id": "fe806e37",
   "metadata": {},
   "outputs": [
    {
     "name": "stderr",
     "output_type": "stream",
     "text": [
      "C:\\Users\\rlong\\anaconda3\\lib\\site-packages\\sklearn\\utils\\deprecation.py:87: FutureWarning: Function plot_roc_curve is deprecated; Function :func:`plot_roc_curve` is deprecated in 1.0 and will be removed in 1.2. Use one of the class methods: :meth:`sklearn.metric.RocCurveDisplay.from_predictions` or :meth:`sklearn.metric.RocCurveDisplay.from_estimator`.\n",
      "  warnings.warn(msg, category=FutureWarning)\n"
     ]
    },
    {
     "data": {
      "text/plain": [
       "<sklearn.metrics._plot.roc_curve.RocCurveDisplay at 0x123318bf0d0>"
      ]
     },
     "execution_count": 25,
     "metadata": {},
     "output_type": "execute_result"
    },
    {
     "data": {
      "image/png": "[encoded data removed]",
      "text/plain": [
       "<Figure size 432x288 with 1 Axes>"
      ]
     },
     "metadata": {
      "needs_background": "light"
     },
     "output_type": "display_data"
    }
   ],
   "source": [
    "#  SVM roc curve\n",
    "metrics.plot_roc_curve(svm_model, features_test, y_test, pos_label = \"ham\") "
   ]
  },
  {
   "cell_type": "code",
   "execution_count": 26,
   "id": "72a5de46",
   "metadata": {},
   "outputs": [
    {
     "name": "stderr",
     "output_type": "stream",
     "text": [
      "C:\\Users\\rlong\\anaconda3\\lib\\site-packages\\sklearn\\utils\\deprecation.py:87: FutureWarning: Function plot_roc_curve is deprecated; Function :func:`plot_roc_curve` is deprecated in 1.0 and will be removed in 1.2. Use one of the class methods: :meth:`sklearn.metric.RocCurveDisplay.from_predictions` or :meth:`sklearn.metric.RocCurveDisplay.from_estimator`.\n",
      "  warnings.warn(msg, category=FutureWarning)\n"
     ]
    },
    {
     "data": {
      "text/plain": [
       "<sklearn.metrics._plot.roc_curve.RocCurveDisplay at 0x12329ce69d0>"
      ]
     },
     "execution_count": 26,
     "metadata": {},
     "output_type": "execute_result"
    },
    {
     "data": {
      "image/png": "[encoded data removed]",
      "text/plain": [
       "<Figure size 432x288 with 1 Axes>"
      ]
     },
     "metadata": {
      "needs_background": "light"
     },
     "output_type": "display_data"
    }
   ],
   "source": [
    "#  RF roc curve\n",
    "metrics.plot_roc_curve(clf, features_test, y_test, pos_label=\"ham\")"
   ]
  },
  {
   "cell_type": "code",
   "execution_count": 27,
   "id": "773df858",
   "metadata": {},
   "outputs": [
    {
     "name": "stderr",
     "output_type": "stream",
     "text": [
      "C:\\Users\\rlong\\anaconda3\\lib\\site-packages\\sklearn\\utils\\deprecation.py:87: FutureWarning: Function plot_roc_curve is deprecated; Function :func:`plot_roc_curve` is deprecated in 1.0 and will be removed in 1.2. Use one of the class methods: :meth:`sklearn.metric.RocCurveDisplay.from_predictions` or :meth:`sklearn.metric.RocCurveDisplay.from_estimator`.\n",
      "  warnings.warn(msg, category=FutureWarning)\n"
     ]
    },
    {
     "data": {
      "text/plain": [
       "<sklearn.metrics._plot.roc_curve.RocCurveDisplay at 0x12331a58220>"
      ]
     },
     "execution_count": 27,
     "metadata": {},
     "output_type": "execute_result"
    },
    {
     "data": {
      "image/png": "[encoded data removed]",
      "text/plain": [
       "<Figure size 432x288 with 1 Axes>"
      ]
     },
     "metadata": {
      "needs_background": "light"
     },
     "output_type": "display_data"
    }
   ],
   "source": [
    "#  NB roc curve\n",
    "metrics.plot_roc_curve(nb_model, features_test, y_test, pos_label=\"ham\")"
   ]
  },
  {
   "cell_type": "code",
   "execution_count": 39,
   "id": "45e0b918",
   "metadata": {},
   "outputs": [
    {
     "data": {
      "text/plain": [
       "Text(0.5, 33.0, 'Predicted label')"
      ]
     },
     "execution_count": 39,
     "metadata": {},
     "output_type": "execute_result"
    },
    {
     "data": {
      "image/png": "[encoded data removed]",
      "text/plain": [
       "<Figure size 720x432 with 2 Axes>"
      ]
     },
     "metadata": {
      "needs_background": "light"
     },
     "output_type": "display_data"
    }
   ],
   "source": [
    "class_names =[0 ,1] # name of classes\n",
    "fig , ax = plt. subplots (figsize=(10,6))\n",
    "tick_marks = np. arange (len( class_names ))\n",
    "plt. xticks ( tick_marks, class_names)\n",
    "plt. yticks ( tick_marks , class_names )\n",
    "# create heatmap\n",
    "sns. heatmap (pd. DataFrame (svm_cm), annot = True ,cmap = \"Reds\" ,\n",
    "              fmt=\"2g\", xticklabels = (\"ham\", \"spam\"), yticklabels = (\"ham\", \"spam\"), \n",
    "              annot_kws={'size': 20, 'rotation': 0})\n",
    "ax. xaxis . set_label_position (\"bottom\")\n",
    "plt. tight_layout ()\n",
    "plt. title (\"SVM\", y =1.02, fontsize=20)\n",
    "plt. ylabel (\"Actual label\", fontsize=12)\n",
    "plt. xlabel (\"Predicted label\", fontsize=12)"
   ]
  },
  {
   "cell_type": "code",
   "execution_count": 35,
   "id": "0f49db69",
   "metadata": {},
   "outputs": [
    {
     "data": {
      "text/plain": [
       "Text(0.5, 33.0, 'Predicted label')"
      ]
     },
     "execution_count": 35,
     "metadata": {},
     "output_type": "execute_result"
    },
    {
     "data": {
      "image/png": "[encoded data removed]",
      "text/plain": [
       "<Figure size 720x432 with 2 Axes>"
      ]
     },
     "metadata": {
      "needs_background": "light"
     },
     "output_type": "display_data"
    }
   ],
   "source": [
    "class_names =[0 ,1] # name of classes\n",
    "fig , ax = plt. subplots (figsize=(10,6))\n",
    "tick_marks = np. arange (len( class_names ))\n",
    "\n",
    "plt. xticks ( tick_marks, class_names)\n",
    "plt. yticks ( tick_marks , class_names )\n",
    "# create heatmap\n",
    "sns. heatmap (pd. DataFrame (rf_cm), annot = True ,cmap = \"Greens\" ,\n",
    "              fmt=\"2g\", xticklabels = (\"ham\", \"spam\"), yticklabels = (\"ham\", \"spam\"), \n",
    "              annot_kws={'size': 20, 'rotation': 0})\n",
    "ax. xaxis . set_label_position (\"bottom\")\n",
    "plt. tight_layout ()\n",
    "plt. title (\"Random Forest\", y =1.02, fontsize=20)\n",
    "plt. ylabel (\"Actual label\", fontsize=12)\n",
    "plt. xlabel (\"Predicted label\", fontsize=12)"
   ]
  },
  {
   "cell_type": "code",
   "execution_count": 36,
   "id": "152278c2",
   "metadata": {},
   "outputs": [
    {
     "data": {
      "text/plain": [
       "Text(0.5, 33.0, 'Predicted label')"
      ]
     },
     "execution_count": 36,
     "metadata": {},
     "output_type": "execute_result"
    },
    {
     "data": {
      "image/png": "[encoded data removed]",
      "text/plain": [
       "<Figure size 720x432 with 2 Axes>"
      ]
     },
     "metadata": {
      "needs_background": "light"
     },
     "output_type": "display_data"
    }
   ],
   "source": [
    "class_names =[0 ,1] # name of classes\n",
    "fig , ax = plt. subplots (figsize=(10,6))\n",
    "tick_marks = np. arange (len( class_names ))\n",
    "plt. xticks ( tick_marks, class_names)\n",
    "plt. yticks ( tick_marks , class_names )\n",
    "# create heatmap\n",
    "sns. heatmap (pd. DataFrame (nb_cm), annot = True ,cmap = \"Blues\" ,\n",
    "              fmt=\"2g\", xticklabels = (\"ham\", \"spam\"), yticklabels = (\"ham\", \"spam\"), \n",
    "              annot_kws={'size': 20, 'rotation': 0})\n",
    "ax. xaxis . set_label_position (\"bottom\")\n",
    "plt. tight_layout ()\n",
    "plt. title (\"Multinomial Naive Bayes\", y =1.02, fontsize=20)\n",
    "plt. ylabel (\"Actual label\", fontsize=12)\n",
    "plt. xlabel (\"Predicted label\", fontsize=12)"
   ]
  },
  {
   "cell_type": "code",
   "execution_count": 42,
   "id": "d576b9c2",
   "metadata": {},
   "outputs": [
    {
     "name": "stdout",
     "output_type": "stream",
     "text": [
      "0.9757399103139013\n"
     ]
    }
   ],
   "source": [
    "#  RF average scores\n",
    "scores=[]\n",
    "x=0\n",
    "while x < 20:\n",
    "    z_train, z_test,y_train, y_test = train_test_split(z,y,test_size = 0.2)\n",
    "    cv = CountVectorizer()\n",
    "    features = cv.fit_transform(z_train)\n",
    "    features_test = cv.transform(z_test)\n",
    "    clf.fit(features,y_train)\n",
    "    scores.append(float(format(clf.score(features_test,y_test))))\n",
    "    x = x + 1\n",
    "    \n",
    "\n",
    "print(sum(scores)/20) "
   ]
  },
  {
   "cell_type": "code",
   "execution_count": 43,
   "id": "68da0270",
   "metadata": {},
   "outputs": [
    {
     "name": "stdout",
     "output_type": "stream",
     "text": [
      "0.9808071748878925\n"
     ]
    }
   ],
   "source": [
    "#  SVM average score\n",
    "scores=[]\n",
    "x=0\n",
    "while x < 20:\n",
    "    z_train, z_test,y_train, y_test = train_test_split(z,y,test_size = 0.2)\n",
    "    cv = CountVectorizer()\n",
    "    features = cv.fit_transform(z_train)\n",
    "    features_test = cv.transform(z_test)\n",
    "    svm_model.fit(features,y_train)\n",
    "    scores.append(float(format(svm_model.score(features_test,y_test))))\n",
    "    x = x + 1\n",
    "    \n",
    "\n",
    "print(sum(scores)/20)"
   ]
  },
  {
   "cell_type": "code",
   "execution_count": 44,
   "id": "e4000204",
   "metadata": {},
   "outputs": [
    {
     "name": "stdout",
     "output_type": "stream",
     "text": [
      "0.9873991031390135\n"
     ]
    }
   ],
   "source": [
    "#  NB average score\n",
    "scores=[]\n",
    "x=0\n",
    "while x < 20:\n",
    "    z_train, z_test,y_train, y_test = train_test_split(z,y,test_size = 0.2)\n",
    "    cv = CountVectorizer()\n",
    "    features = cv.fit_transform(z_train)\n",
    "    features_test = cv.transform(z_test)\n",
    "    nb_model.fit(features,y_train)\n",
    "    scores.append(float(format(nb_model.score(features_test,y_test))))\n",
    "    x = x + 1\n",
    "    \n",
    "\n",
    "print(sum(scores)/20)"
   ]
  },
  {
   "cell_type": "code",
   "execution_count": 45,
   "id": "1363f54d",
   "metadata": {},
   "outputs": [
    {
     "data": {
      "text/plain": [
       "GaussianNB()"
      ]
     },
     "execution_count": 45,
     "metadata": {},
     "output_type": "execute_result"
    }
   ],
   "source": [
    "#  GNB model training\n",
    "features = features.toarray()\n",
    "gnb_model = GaussianNB()\n",
    "gnb_model.fit(features , y_train )"
   ]
  },
  {
   "cell_type": "code",
   "execution_count": 46,
   "id": "cece780f",
   "metadata": {},
   "outputs": [
    {
     "data": {
      "text/plain": [
       "BernoulliNB()"
      ]
     },
     "execution_count": 46,
     "metadata": {},
     "output_type": "execute_result"
    }
   ],
   "source": [
    "#  BNB model training\n",
    "\n",
    "bnb_model = BernoulliNB()\n",
    "bnb_model.fit(features , y_train )"
   ]
  },
  {
   "cell_type": "code",
   "execution_count": 47,
   "id": "143a9e32",
   "metadata": {},
   "outputs": [
    {
     "data": {
      "text/plain": [
       "'GaussianNB() Score 0.9192825112107623'"
      ]
     },
     "execution_count": 47,
     "metadata": {},
     "output_type": "execute_result"
    }
   ],
   "source": [
    "features_test1 = features_test.toarray()\n",
    "\n",
    "(\"GaussianNB() Score \" + str(gnb_model.score(features_test1, y_test)))"
   ]
  },
  {
   "cell_type": "code",
   "execution_count": 50,
   "id": "1b33e6d4",
   "metadata": {},
   "outputs": [
    {
     "data": {
      "text/plain": [
       "'BernoulliNB Score 0.9829596412556054'"
      ]
     },
     "execution_count": 50,
     "metadata": {},
     "output_type": "execute_result"
    }
   ],
   "source": [
    "features_test = cv.transform(z_test)\n",
    "\n",
    "(\"BernoulliNB Score \" + str(bnb_model.score(features_test3, y_test)))"
   ]
  },
  {
   "cell_type": "code",
   "execution_count": 51,
   "id": "a862fd0f",
   "metadata": {},
   "outputs": [
    {
     "data": {
      "text/plain": [
       "array([[972,   0],\n",
       "       [ 19, 124]], dtype=int64)"
      ]
     },
     "execution_count": 51,
     "metadata": {},
     "output_type": "execute_result"
    }
   ],
   "source": [
    "bnb_y_pred = bnb_model.predict ( features_test )\n",
    "\n",
    "bnb_cm = confusion_matrix (y_test , bnb_y_pred )\n",
    "bnb_cm"
   ]
  },
  {
   "cell_type": "code",
   "execution_count": 52,
   "id": "bff9fa13",
   "metadata": {},
   "outputs": [
    {
     "data": {
      "text/plain": [
       "1.0"
      ]
     },
     "execution_count": 52,
     "metadata": {},
     "output_type": "execute_result"
    }
   ],
   "source": [
    "# BNB recall\n",
    "recall_score(y_test , bnb_y_pred, pos_label = \"ham\")"
   ]
  },
  {
   "cell_type": "code",
   "execution_count": 53,
   "id": "78b52581",
   "metadata": {},
   "outputs": [
    {
     "data": {
      "text/plain": [
       "0.9808274470232089"
      ]
     },
     "execution_count": 53,
     "metadata": {},
     "output_type": "execute_result"
    }
   ],
   "source": [
    "#  BNB precision\n",
    "precision_score(y_test , bnb_y_pred, pos_label = \"ham\")"
   ]
  },
  {
   "cell_type": "code",
   "execution_count": 55,
   "id": "48def9ca",
   "metadata": {},
   "outputs": [
    {
     "data": {
      "text/plain": [
       "0.9218106995884774"
      ]
     },
     "execution_count": 55,
     "metadata": {},
     "output_type": "execute_result"
    }
   ],
   "source": [
    "#  GNB recall\n",
    "gnb_y_pred = gnb_model.predict ( features_test1 )\n",
    "\n",
    "recall_score(y_test , gnb_y_pred, pos_label = \"ham\")"
   ]
  },
  {
   "cell_type": "code",
   "execution_count": 56,
   "id": "79c9da8e",
   "metadata": {},
   "outputs": [
    {
     "data": {
      "text/plain": [
       "0.9846153846153847"
      ]
     },
     "execution_count": 56,
     "metadata": {},
     "output_type": "execute_result"
    }
   ],
   "source": [
    "#  GNB precision\n",
    "\n",
    "precision_score(y_test , gnb_y_pred, pos_label = \"ham\")"
   ]
  },
  {
   "cell_type": "code",
   "execution_count": null,
   "id": "80aeb7ee",
   "metadata": {},
   "outputs": [],
   "source": []
  }
 ],
 "metadata": {
  "kernelspec": {
   "display_name": "Python 3 (ipykernel)",
   "language": "python",
   "name": "python3"
  },
  "language_info": {
   "codemirror_mode": {
    "name": "ipython",
    "version": 3
   },
   "file_extension": ".py",
   "mimetype": "text/x-python",
   "name": "python",
   "nbconvert_exporter": "python",
   "pygments_lexer": "ipython3",
   "version": "3.9.12"
  }
 },
 "nbformat": 4,
 "nbformat_minor": 5
}
